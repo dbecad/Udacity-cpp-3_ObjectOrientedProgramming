{
 "cells": [
  {
   "cell_type": "code",
   "execution_count": null,
   "metadata": {
    "graffitiCellId": "id_ryo27t3",
    "graffitiConfig": {
     "executeCellViaGraffiti": "5k64ho4_nhpsmyt"
    }
   },
   "outputs": [],
   "source": [
    "#include <iostream>\n",
    "\n",
    "class  Abstraction {\n",
    "private:\n",
    "    // Counter of class objects\n",
    "    static int counter;\n",
    "    int number;\n",
    "    char character;\n",
    "    // Private method - Used to perform inner logic\n",
    "    void ProcessAttributes(void);\n",
    "public:\n",
    "    Abstraction() {\n",
    "        counter++;\n",
    "    }\n",
    "    void SetMyValues(int n, char c);\n",
    "    void GetMyValues(void);\n",
    "    int GetCounter(void);\n",
    "};\n",
    "// It is required to specify the initial value in \n",
    "// the global scope of the program\n",
    "// If you use declaration and initialization in class body \n",
    "// it viewed as declaration of const static member;\n",
    "\n",
    "int Abstraction::counter = 0;\n",
    "void Abstraction::ProcessAttributes() {\n",
    "    Abstraction::number *= 6;\n",
    "    Abstraction::character++;\n",
    "}\n",
    "void Abstraction::SetMyValues(int n, char c) {\n",
    "    Abstraction::number = n; Abstraction::character = c;\n",
    "}\n",
    "void Abstraction::GetMyValues() {\n",
    "    Abstraction::ProcessAttributes();\n",
    "    std::cout << \"Numbers is: \" << Abstraction::number << \"\\n\";\n",
    "    std::cout << \"Character is: \" << Abstraction::character << \"\\n\";\n",
    "}\n",
    "int Abstraction::GetCounter() {\n",
    "    return Abstraction::counter;\n",
    "\n",
    "}\n",
    "int main() {\n",
    "    Abstraction abstract;\n",
    "    abstract.SetMyValues(100, 'X');\n",
    "    abstract.GetMyValues();\n",
    "    std::cout << \"Counter is: \" << abstract.GetCounter() << \"\\n\";\n",
    "    Abstraction abstract2;\n",
    "    abstract2.SetMyValues(10, 'A');\n",
    "    abstract2.GetMyValues();\n",
    "    std::cout << \"Counter is: \" << abstract2.GetCounter() << \"\\n\";\n",
    "}"
   ]
  },
  {
   "cell_type": "markdown",
   "metadata": {
    "graffitiCellId": "id_5k64ho4"
   },
   "source": [
    "<span class=\"graffiti-highlight graffiti-id_5k64ho4-id_nhpsmyt\"><i></i><button>Run Code</button></span>"
   ]
  },
  {
   "cell_type": "markdown",
   "metadata": {
    "graffitiCellId": "id_9ztl9fw",
    "graffitiConfig": {
     "rows": 6,
     "terminalId": "id_9ztl9fw",
     "type": "terminal"
    }
   },
   "source": [
    "<i>Loading terminal (id_9ztl9fw), please wait...</i>"
   ]
  },
  {
   "cell_type": "code",
   "execution_count": null,
   "metadata": {
    "graffitiCellId": "id_0yjvlws"
   },
   "outputs": [],
   "source": []
  }
 ],
 "metadata": {
  "graffiti": {
   "firstAuthorId": "8978490740",
   "id": "id_itcdm0e",
   "language": "EN"
  },
  "kernelspec": {
   "display_name": "C++17",
   "language": "C++17",
   "name": "xeus-cling-cpp17"
  },
  "language_info": {
   "codemirror_mode": "text/x-c++src",
   "file_extension": ".cpp",
   "mimetype": "text/x-c++src",
   "name": "c++",
   "version": "-std=c++17"
  }
 },
 "nbformat": 4,
 "nbformat_minor": 2
}
