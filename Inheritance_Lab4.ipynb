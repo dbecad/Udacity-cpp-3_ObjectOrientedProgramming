{
 "cells": [
  {
   "cell_type": "code",
   "execution_count": 5,
   "metadata": {
    "graffitiCellId": "id_m771xns",
    "graffitiConfig": {
     "executeCellViaGraffiti": "th9wgfb_gy3pmfr"
    }
   },
   "outputs": [
    {
     "name": "stderr",
     "output_type": "stream",
     "text": [
      "input_line_8:10:26: error: function definition is not allowed here\n",
      " void A::SetA(int val_a) {\n",
      "                         ^\n",
      "input_line_8:13:19: error: function definition is not allowed here\n",
      "int A::GetA(void) {\n",
      "                  ^\n",
      "input_line_8:27:38: error: function definition is not allowed here\n",
      "void B::SetAB(int val_a, int  val_b) {\n",
      "                                     ^\n",
      "input_line_8:32:19: error: function definition is not allowed here\n",
      "void B::PrintAB() {\n",
      "                  ^\n",
      "input_line_8:35:15: error: function definition is not allowed here\n",
      "int B::GetB() {\n",
      "              ^\n",
      "input_line_8:47:49: error: function definition is not allowed here\n",
      "void C::SetABC(int val_a, int val_b, int val_c) {\n",
      "                                                ^\n",
      "input_line_8:54:20: error: function definition is not allowed here\n",
      "void C::PrintABC() {\n",
      "                   ^\n",
      "input_line_8:58:1: error: function definition is not allowed here\n",
      "{\n",
      "^\n"
     ]
    },
    {
     "ename": "Interpreter Error",
     "evalue": "",
     "output_type": "error",
     "traceback": [
      "Interpreter Error: "
     ]
    }
   ],
   "source": [
    "#include <iostream>\n",
    "\n",
    "//Base Class : class A\n",
    "class A {\n",
    "  private:\n",
    "      int a_attr;\n",
    "  public:\n",
    "      void SetA(int val_a);\n",
    "      int GetA(void);\n",
    "};\n",
    "\n",
    "void A::SetA(int val_a) {\n",
    "    A::a_attr = val_a;\n",
    "}\n",
    "\n",
    "int A::GetA(void) {\n",
    "    return A::a_attr;\n",
    "}\n",
    "//Here Class B is base class for class C\n",
    "//and Derived class for class A\n",
    "class B : public A {\n",
    "  private:\n",
    "      int b_attr;\n",
    "  public:\n",
    "      //assign value of a from here\n",
    "      void SetAB(int val_a, int val_b);\n",
    "      void PrintAB(void);\n",
    "      int GetB(void);\n",
    "};\n",
    "\n",
    "void B::SetAB(int val_a, int  val_b) {\n",
    "    //assign value of a by calling function of class A\n",
    "    B::SetA(val_a);\n",
    "    b_attr = val_b;\n",
    "}\n",
    "void B::PrintAB() {\n",
    "    std::cout << B::GetA() << B::b_attr << \"\\n\";\n",
    "}\n",
    "int B::GetB() {\n",
    "    return B::b_attr;\n",
    "}\n",
    "//Here class C is derived class and B is Base class\n",
    "class C : public B {\n",
    "  private:\n",
    "      int c_attr;\n",
    "  public:\n",
    "      //assign value of a from here\n",
    "      void SetABC(int val_a, int val_b, int val_c);\n",
    "      void PrintABC(void);\n",
    "};\n",
    "\n",
    "void C::SetABC(int val_a, int val_b, int val_c) {\n",
    "    /*** Multilevel Inheritance ***/\n",
    "    //assign value of a, bby calling function of class B and Class A\n",
    "    //here Class A is inherited on Class B, and Class B in inherited on Class B\n",
    "    C::SetAB(val_a, val_b);\n",
    "    C::c_attr = val_c;\n",
    "}\n",
    "\n",
    "void C::PrintABC() {\n",
    "    std::cout << C::c_attr << C::GetB() << C::GetA() << \"\\n\";\n",
    "}\n",
    "\n",
    "int main()\n",
    "{\n",
    "    C c;\n",
    "    c.SetABC(1, 2, 3);\n",
    "    c.PrintABC();\n",
    "    \n",
    "    \n",
    "}"
   ]
  },
  {
   "cell_type": "markdown",
   "metadata": {
    "graffitiCellId": "id_th9wgfb"
   },
   "source": [
    "<span class=\"graffiti-highlight graffiti-id_th9wgfb-id_gy3pmfr\"><i></i><button>Compile & Execute</button></span>"
   ]
  },
  {
   "cell_type": "markdown",
   "metadata": {
    "graffitiCellId": "id_dssp0q5",
    "graffitiConfig": {
     "rows": 6,
     "terminalId": "id_ulq59dr",
     "type": "terminal"
    }
   },
   "source": [
    "<i>Loading terminal (id_dssp0q5), please wait...</i>"
   ]
  }
 ],
 "metadata": {
  "graffiti": {
   "firstAuthorId": "8978490740",
   "id": "id_xnc2lo4",
   "language": "EN"
  },
  "kernelspec": {
   "display_name": "C++17",
   "language": "C++17",
   "name": "xeus-cling-cpp17"
  },
  "language_info": {
   "codemirror_mode": "text/x-c++src",
   "file_extension": ".cpp",
   "mimetype": "text/x-c++src",
   "name": "c++",
   "version": "-std=c++17"
  }
 },
 "nbformat": 4,
 "nbformat_minor": 2
}
