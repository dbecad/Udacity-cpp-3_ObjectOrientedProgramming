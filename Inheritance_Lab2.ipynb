{
 "cells": [
  {
   "cell_type": "code",
   "execution_count": null,
   "metadata": {
    "graffitiCellId": "id_c267s1j",
    "graffitiConfig": {
     "executeCellViaGraffiti": "3a7ajxg_sctez6p"
    }
   },
   "outputs": [],
   "source": [
    "// include iostream for printing\n",
    "\n",
    "// Define pi\n",
    "\n",
    "// Define Line Class\n",
    "\n",
    "    // Define protected attribute length\n",
    "    \n",
    "// Define Circle subclass\n",
    "\n",
    "    // Define public setRadius() and getArea()\n",
    "    \n",
    "// Test in main()\n"
   ]
  },
  {
   "cell_type": "markdown",
   "metadata": {
    "graffitiCellId": "id_3a7ajxg"
   },
   "source": [
    "<span class=\"graffiti-highlight graffiti-id_3a7ajxg-id_sctez6p\"><i></i><button>Run Code</button></span>"
   ]
  },
  {
   "cell_type": "markdown",
   "metadata": {
    "graffitiCellId": "id_39egm48",
    "graffitiConfig": {
     "rows": 6,
     "terminalId": "id_39egm48",
     "type": "terminal"
    }
   },
   "source": [
    "<i>Loading terminal (id_39egm48), please wait...</i>"
   ]
  },
  {
   "cell_type": "markdown",
   "metadata": {
    "graffitiCellId": "id_e686r6h"
   },
   "source": [
    "<span class=\"graffiti-highlight graffiti-id_e686r6h-id_bboze1c\"><i></i><button>Hide Solution</button></span>"
   ]
  },
  {
   "cell_type": "code",
   "execution_count": null,
   "metadata": {
    "graffitiCellId": "id_bboze1c"
   },
   "outputs": [],
   "source": [
    "// Example solution for Line and Circle classes\n",
    "// include iostream for printing\n",
    "#include <iostream>\n",
    "\n",
    "// Define pi\n",
    "const double pi = 3.14159;\n",
    "// Define Line Class\n",
    "class Line {\n",
    "    // Define protected attribute length\n",
    "    protected:\n",
    "        double length;\n",
    "};\n",
    "// Define Circle subclass\n",
    "class Circle:Line { // Circle is the derived class.\n",
    "    // Define public setRadius() and getArea()\n",
    "    public:\n",
    "      double GetArea();\n",
    "      void SetRadius(double x);\n",
    "};\n",
    "\n",
    "void Circle::SetRadius(double x) {\n",
    "    Circle::length = x;\n",
    "}\n",
    "double Circle::GetArea() {\n",
    "    // in this case length is radius line length\n",
    "    return Circle::length*Circle::length*pi;\n",
    "}\n",
    "// Test in main()\n",
    "int main() {\n",
    "    Circle circle;\n",
    "    circle.SetRadius(1);\n",
    "    std::cout << \"Circle Area : \" << circle.GetArea() << \"\\n\";\n",
    "}"
   ]
  }
 ],
 "metadata": {
  "graffiti": {
   "firstAuthorId": "8978490740",
   "id": "id_xnc2lo4",
   "language": "EN"
  },
  "kernelspec": {
   "display_name": "C++17",
   "language": "C++17",
   "name": "xeus-cling-cpp17"
  },
  "language_info": {
   "codemirror_mode": "text/x-c++src",
   "file_extension": ".cpp",
   "mimetype": "text/x-c++src",
   "name": "c++",
   "version": "-std=c++17"
  }
 },
 "nbformat": 4,
 "nbformat_minor": 2
}
