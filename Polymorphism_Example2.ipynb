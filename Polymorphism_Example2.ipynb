{
 "cells": [
  {
   "cell_type": "code",
   "execution_count": null,
   "metadata": {
    "graffitiCellId": "id_z8u95or",
    "graffitiConfig": {
     "executeCellViaGraffiti": "nbiehqu_3qgmd50"
    }
   },
   "outputs": [],
   "source": [
    "// C++ program for function overriding\n",
    "#include<iostream>\n",
    "using std::cout;\n",
    "\n",
    "class Base_Class {\n",
    "    public:\n",
    "        virtual void PrintVirtual () \n",
    "        {\n",
    "          std::cout << \"This is a message from the base class!!\" << \"\\n\";\n",
    "        }\n",
    "\n",
    "        void Print () \n",
    "        {\n",
    "          std::cout << \"This displays the base class.\" << \"\\n\";\n",
    "        }\n",
    "};\n",
    "\n",
    "class Derived_Class : public Base_Class {\n",
    "  public:\n",
    "      //print () is already virtual function in derived class, we could also declared  as virtual\n",
    "      //void print () explicitly\n",
    "      void PrintVirtual ()  \n",
    "      {\n",
    "        std::cout << \"This is a message from the derived class!!\" << \"\\n\";\n",
    "      }\n",
    "\n",
    "      void Print () \n",
    "      {\n",
    "        std::cout << \"This displays the derived class.\" << \"\\n\";\n",
    "      }\n",
    "};\n",
    "\n",
    "\n",
    "int main()  \n",
    "{\n",
    "    Base_Class *pointer;\n",
    "    Derived_Class der;\n",
    "    pointer = &der;\n",
    "    //virtual function, binded at runtime (Runtime polymorphism)\n",
    "    pointer->PrintVirtual();  // OUTPUT: print derived class\n",
    "\n",
    "    // Non-virtual function, binded at compile time\n",
    "    pointer->Print(); // OUTPUT: print base class\n",
    "\n",
    "}"
   ]
  },
  {
   "cell_type": "markdown",
   "metadata": {
    "graffitiCellId": "id_nbiehqu"
   },
   "source": [
    "<span class=\"graffiti-highlight graffiti-id_nbiehqu-id_3qgmd50\"><i></i><button>Compile & Execute</button></span>"
   ]
  },
  {
   "cell_type": "markdown",
   "metadata": {
    "graffitiCellId": "id_h177dz1",
    "graffitiConfig": {
     "rows": 6,
     "terminalId": "id_l2ubfti",
     "type": "terminal"
    }
   },
   "source": [
    "<i>Loading terminal (id_h177dz1), please wait...</i>"
   ]
  }
 ],
 "metadata": {
  "graffiti": {
   "firstAuthorId": "8978490740",
   "id": "id_jnkqpsu",
   "language": "EN"
  },
  "kernelspec": {
   "display_name": "C++17",
   "language": "C++17",
   "name": "xeus-cling-cpp17"
  },
  "language_info": {
   "codemirror_mode": "text/x-c++src",
   "file_extension": ".cpp",
   "mimetype": "text/x-c++src",
   "name": "c++",
   "version": "-std=c++17"
  }
 },
 "nbformat": 4,
 "nbformat_minor": 2
}
