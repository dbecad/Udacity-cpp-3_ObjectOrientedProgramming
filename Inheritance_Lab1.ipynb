{
 "cells": [
  {
   "cell_type": "code",
   "execution_count": null,
   "metadata": {
    "graffitiCellId": "id_f0fygab",
    "graffitiConfig": {
     "executeCellViaGraffiti": "s97p0lz_yynkkrc"
    }
   },
   "outputs": [],
   "source": [
    "// include iostream for printing\n",
    "\n",
    "// Define base class Animal\n",
    "\n",
    "    // Define protected base class attributes\n",
    "    \n",
    "    // Define public setters and getters\n",
    "    \n",
    "// Define subclass Snake\n",
    "\n",
    "    // Define private attribute length\n",
    "    \n",
    "    // Define public getter and setter\n",
    "    \n",
    "// Define subclass Cat\n",
    "\n",
    "    // Define private attribute height\n",
    "    \n",
    "    // Define public getter and setter\n",
    "    \n",
    "// Test in main()\n"
   ]
  },
  {
   "cell_type": "markdown",
   "metadata": {
    "graffitiCellId": "id_s97p0lz"
   },
   "source": [
    "<span class=\"graffiti-highlight graffiti-id_s97p0lz-id_yynkkrc\"><i></i><button>Compile & Execute</button></span>&nbsp;\n",
    "<span class=\"graffiti-highlight graffiti-id_eaxs16z-id_6tukvgw\"><i></i><button>Hide Solution</button></span>"
   ]
  },
  {
   "cell_type": "code",
   "execution_count": null,
   "metadata": {
    "graffitiCellId": "id_6tukvgw"
   },
   "outputs": [],
   "source": [
    "// Example solution for Animal class\n",
    "// include iostream for printing\n",
    "#include <iostream>\n",
    "// Define base class Animal\n",
    "class Animal {\n",
    "\n",
    "    // Define protected base class attributes\n",
    "    protected:\n",
    "        std::string color;\n",
    "        std::string name;\n",
    "        int age;\n",
    "    // Define public setters and getters\n",
    "    public:\n",
    "        void SetColor(std::string c) {\n",
    "            color = c;\n",
    "        }\n",
    "\n",
    "        std::string GetColor() {\n",
    "            return color;\n",
    "        }\n",
    "\n",
    "        void SetName(std::string n) {\n",
    "            name = n;\n",
    "        }\n",
    "\n",
    "        std::string GetName() {\n",
    "            return name;\n",
    "        }\n",
    "\n",
    "        void SetAge(int a) {\n",
    "            age = a;\n",
    "        }\n",
    "\n",
    "        int GetAge() {\n",
    "            return age;\n",
    "        }\n",
    "\n",
    "};\n",
    "// Define subclass Snake\n",
    "class Snake : public Animal {\n",
    "    // Define private attribute length\n",
    "    private:\n",
    "        int length;\n",
    "    // Define public getter and setter\n",
    "    public:\n",
    "         void SetLength(int l) {\n",
    "             length = l;\n",
    "         }\n",
    "\n",
    "         int GetLength() {\n",
    "             return length;\n",
    "         }\n",
    "\n",
    "         void MakeSound() {\n",
    "            std::cout << \"Hiss\" << \"\\n\";\n",
    "        }\n",
    "};\n",
    "// Define subclass Cat\n",
    "class Cat : public Animal {\n",
    "    // Define private attribute height\n",
    "    private:\n",
    "        int height;\n",
    "    // Define public getter and setter\n",
    "    public:\n",
    "        int GetHeight() {\n",
    "            return height;\n",
    "        }\n",
    "\n",
    "        void SetHeight(int h) {\n",
    "            height = h;\n",
    "        }\n",
    "        \n",
    "        };\n",
    "};\n",
    "// Test in main()\n",
    "int main() {\n",
    "\n",
    "    Cat c;\n",
    "    Snake s;\n",
    "\n",
    "    c.SetAge(10);\n",
    "    c.SetName(\"Lucy\");\n",
    "    c.MakeSound();\n",
    "    s.MakeSound();\n",
    "\n",
    "    std::cout << c.GetAge() << \" \" << c.GetName() << \"\\n\";\n",
    "}"
   ]
  },
  {
   "cell_type": "markdown",
   "metadata": {
    "graffitiCellId": "id_khtvygp",
    "graffitiConfig": {
     "rows": 3,
     "terminalId": "id_2swqcx1",
     "type": "terminal"
    }
   },
   "source": [
    "<i>Loading terminal (id_khtvygp), please wait...</i>"
   ]
  },
  {
   "cell_type": "code",
   "execution_count": null,
   "metadata": {
    "graffitiCellId": "id_fwxr4dc"
   },
   "outputs": [],
   "source": []
  },
  {
   "cell_type": "code",
   "execution_count": null,
   "metadata": {
    "graffitiCellId": "id_fh2y88q"
   },
   "outputs": [],
   "source": []
  }
 ],
 "metadata": {
  "graffiti": {
   "firstAuthorId": "8978490740",
   "id": "id_xnc2lo4",
   "language": "EN"
  },
  "kernelspec": {
   "display_name": "C++17",
   "language": "C++17",
   "name": "xeus-cling-cpp17"
  },
  "language_info": {
   "codemirror_mode": "text/x-c++src",
   "file_extension": ".cpp",
   "mimetype": "text/x-c++src",
   "name": "c++",
   "version": "-std=c++17"
  }
 },
 "nbformat": 4,
 "nbformat_minor": 2
}
