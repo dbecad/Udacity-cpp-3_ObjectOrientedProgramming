{
 "cells": [
  {
   "cell_type": "code",
   "execution_count": null,
   "metadata": {
    "graffitiCellId": "id_3ujus5a",
    "graffitiConfig": {
     "executeCellViaGraffiti": "3yok1aq_gktp726"
    }
   },
   "outputs": [],
   "source": [
    "#include <iostream>\n",
    "\n",
    "class Vehicle {\n",
    "  public:\n",
    "    void get_info() {\n",
    "        std::cout << \"This is a vehicle!\" << \"\\n\";\n",
    "    }\n",
    "    \n",
    "  private:\n",
    "    int mileage;\n",
    "    int fuel_capacity;\n",
    "};\n",
    "\n",
    "class Car : public Vehicle {\n",
    "    public:\n",
    "        bool is_cabriolet;\n",
    "};\n",
    "\n",
    "class Truck : public Vehicle {\n",
    "    public:\n",
    "        bool has_sleeping_cabin;\n",
    "};\n",
    "\n",
    "int main() {\n",
    "    Car c;\n",
    "    c.is_cabriolet = true;\n",
    "    std::cout << c.is_cabriolet << \"\\n\";\n",
    "    c.get_info();\n",
    "};"
   ]
  },
  {
   "cell_type": "markdown",
   "metadata": {
    "graffitiCellId": "id_3yok1aq"
   },
   "source": [
    "<span class=\"graffiti-highlight graffiti-id_3yok1aq-id_gktp726\"><i></i><button>Compile & Execute</button></span>"
   ]
  },
  {
   "cell_type": "markdown",
   "metadata": {
    "graffitiCellId": "id_13wqor3",
    "graffitiConfig": {
     "rows": 6,
     "terminalId": "id_b60vr9h",
     "type": "terminal"
    }
   },
   "source": [
    "<i>Loading terminal (id_13wqor3), please wait...</i>"
   ]
  }
 ],
 "metadata": {
  "graffiti": {
   "firstAuthorId": "8978490740",
   "id": "id_itcdm0e",
   "language": "EN"
  },
  "kernelspec": {
   "display_name": "C++17",
   "language": "C++17",
   "name": "xeus-cling-cpp17"
  },
  "language_info": {
   "codemirror_mode": "text/x-c++src",
   "file_extension": ".cpp",
   "mimetype": "text/x-c++src",
   "name": "c++",
   "version": "-std=c++17"
  }
 },
 "nbformat": 4,
 "nbformat_minor": 2
}
