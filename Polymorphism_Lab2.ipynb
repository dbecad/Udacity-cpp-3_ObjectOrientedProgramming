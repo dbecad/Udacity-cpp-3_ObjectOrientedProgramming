{
 "cells": [
  {
   "cell_type": "code",
   "execution_count": null,
   "metadata": {
    "graffitiCellId": "id_yv9j4u3",
    "graffitiConfig": {
     "executeCellViaGraffiti": "mhfr8d3_9owpptc"
    }
   },
   "outputs": [],
   "source": [
    "// include iostream for printing\n",
    "\n",
    "// Define Point class\n",
    "\n",
    "    // Declare private attributes x and y\n",
    "    \n",
    "    // Define public constructor\n",
    "    // Define + operator overload\n",
    "    // Define print() function to print (x,y) of Point\n",
    "\n",
    "\n",
    "// Test in main()\n"
   ]
  },
  {
   "cell_type": "markdown",
   "metadata": {
    "graffitiCellId": "id_mhfr8d3"
   },
   "source": [
    "<span class=\"graffiti-highlight graffiti-id_mhfr8d3-id_9owpptc\"><i></i><button>Compile & Execute</button></span>&nbsp;\n",
    "<span class=\"graffiti-highlight graffiti-id_q257wol-id_63h9sal\"><i></i><button>Hide Solution</button></span>"
   ]
  },
  {
   "cell_type": "code",
   "execution_count": null,
   "metadata": {
    "graffitiCellId": "id_63h9sal"
   },
   "outputs": [],
   "source": [
    "// Example solution for operator overloading\n",
    "// include iostream for printing\n",
    "#include<iostream>\n",
    "// Define Point class\n",
    "class Point {    \n",
    "    // Define public constructor\n",
    "    // Define + operator overload\n",
    "    // Define Print() function to print (x, y) of Point\n",
    "    public:\n",
    "        Point(int xc = 0, int yc = 0) : x(xc), y(yc) {}\n",
    "        \n",
    "        // The following will be automatically called when '+' is used with\n",
    "        // between two Complex objects\n",
    "        Point operator + (Point const &obj) \n",
    "        {\n",
    "            Point res;\n",
    "            res.x = Point::x + obj.x;\n",
    "            res.y = Point::y + obj.y;\n",
    "            return res;\n",
    "        }\n",
    "        // Print function\n",
    "        void Print() \n",
    "        {\n",
    "            std::cout << \"Point: (\" << Point::x << \", \" << Point::y << \")\"<< \"\\n\";\n",
    "        }\n",
    "    \n",
    "    // Declare private attributes x and y\n",
    "    private:\n",
    "        int x, y;\n",
    "};\n",
    "\n",
    "// Test in main()\n",
    "int main() \n",
    "{\n",
    "    Point p1(10, 5);\n",
    "    Point p2(2, 4);\n",
    "    Point p = p1 + p2; // An example call to \"operator +\"\n",
    "    p1.Print();\n",
    "    p2.Print();\n",
    "    p.Print();\n",
    "}"
   ]
  },
  {
   "cell_type": "markdown",
   "metadata": {
    "graffitiCellId": "id_ovjrzbc",
    "graffitiConfig": {
     "rows": 6,
     "terminalId": "id_ovjrzbc",
     "type": "terminal"
    }
   },
   "source": [
    "<i>Loading terminal (id_ovjrzbc), please wait...</i>"
   ]
  }
 ],
 "metadata": {
  "graffiti": {
   "firstAuthorId": "8978490740",
   "id": "id_itcdm0e",
   "language": "EN"
  },
  "kernelspec": {
   "display_name": "C++17",
   "language": "C++17",
   "name": "xeus-cling-cpp17"
  },
  "language_info": {
   "codemirror_mode": "text/x-c++src",
   "file_extension": ".cpp",
   "mimetype": "text/x-c++src",
   "name": "c++",
   "version": "-std=c++17"
  }
 },
 "nbformat": 4,
 "nbformat_minor": 2
}
