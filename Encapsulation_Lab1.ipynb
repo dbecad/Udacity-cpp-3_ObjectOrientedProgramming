{
 "cells": [
  {
   "cell_type": "markdown",
   "metadata": {
    "graffitiCellId": "id_lpragps"
   },
   "source": [
    "# Define a `Student` class\n",
    "Follow the instructions to create and test a `Student` class. If you get stuck you can scroll down to see an example solution. "
   ]
  },
  {
   "cell_type": "code",
   "execution_count": null,
   "metadata": {
    "graffitiCellId": "id_8patciz",
    "graffitiConfig": {
     "executeCellViaGraffiti": "a0fdo0n_ozfbizv"
    }
   },
   "outputs": [],
   "source": [
    "#include<iostream>\n",
    "\n",
    "// TODO: Define your \"Student\" class below with constructor\n",
    "// and getter/setter methods\n",
    "class Student {\n",
    "     \n",
    "     // define private attributes\n",
    "     private:\n",
    "         // student name\n",
    "         // years of study\n",
    "         // GPA\n",
    "\n",
    "     public:     \n",
    "         // write a public constructor for Student\n",
    "         // that takes name, grade, and GPA\n",
    "         // and initializes the private attributes\n",
    "         Student() {}\n",
    "\n",
    "         // getter for student name\n",
    "         // getter for years of study\n",
    "         // getter for student's GPA\n",
    "\n",
    "         // setter for student's name\n",
    "         // setter for years of study\n",
    "         // setter for GPA\n",
    "};\n",
    "\n",
    "int main()\n",
    "{\n",
    "  // Test instantiation and getters / setters\n",
    "    \n",
    "}"
   ]
  },
  {
   "cell_type": "markdown",
   "metadata": {
    "graffitiCellId": "id_a0fdo0n"
   },
   "source": [
    "<span class=\"graffiti-highlight graffiti-id_a0fdo0n-id_ozfbizv\"><i></i><button>Compile & Run</button></span>&nbsp;\n",
    "<span class=\"graffiti-highlight graffiti-id_tnsij9p-id_6goijy0\"><i></i><button>Explain</button></span>"
   ]
  },
  {
   "cell_type": "markdown",
   "metadata": {
    "graffitiCellId": "id_un5ro9d",
    "graffitiConfig": {
     "rows": 6,
     "terminalId": "id_j5uvljj",
     "type": "terminal"
    }
   },
   "source": [
    "<i>Loading terminal (id_un5ro9d), please wait...</i>"
   ]
  },
  {
   "cell_type": "markdown",
   "metadata": {
    "graffitiCellId": "id_xnwajxf"
   },
   "source": [
    "<span class=\"graffiti-highlight graffiti-id_xnwajxf-id_fhn35ru\"><i></i><button>Show Solution</button></span>"
   ]
  }
 ],
 "metadata": {
  "graffiti": {
   "firstAuthorId": "8978490740",
   "id": "id_g4m4i1f",
   "language": "EN"
  },
  "kernelspec": {
   "display_name": "C++17",
   "language": "C++17",
   "name": "xeus-cling-cpp17"
  },
  "language_info": {
   "codemirror_mode": "text/x-c++src",
   "file_extension": ".cpp",
   "mimetype": "text/x-c++src",
   "name": "c++",
   "version": "-std=c++17"
  }
 },
 "nbformat": 4,
 "nbformat_minor": 2
}
