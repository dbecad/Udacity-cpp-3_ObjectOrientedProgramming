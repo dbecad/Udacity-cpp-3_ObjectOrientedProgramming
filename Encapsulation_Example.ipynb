{
 "cells": [
  {
   "cell_type": "markdown",
   "metadata": {
    "graffitiCellId": "id_bq76tpi"
   },
   "source": [
    "# Debugging Exercise\n",
    "Debugging in C++ can be tedious, but learning how to read the error messages and figure out what went wrong is a super important skill to develop! \n",
    "\n",
    "In the code below, we've introduced a few small errors. Press the `Compile & Run` button to see what errors occur. Then see if you can clean them up! Scroll down to see a solution if you get stuck. "
   ]
  },
  {
   "cell_type": "code",
   "execution_count": null,
   "metadata": {
    "graffitiCellId": "id_u23hcf8",
    "graffitiConfig": {
     "executeCellViaGraffiti": "7n6siw3_vhulebs"
    }
   },
   "outputs": [],
   "source": [
    "// Encapsulation\n",
    "#include <iostream>  \n",
    "\n",
    "class Encapsulation {\n",
    "  private\n",
    "    int x;  // data encapsulated (hidden) within the class\n",
    "    \n",
    "  public\n",
    "    void Set(int a)  // interface to set the value of variable x\n",
    "    {\n",
    "      x = a\n",
    "    }\n",
    "\n",
    "    int Get() // interface to get the value of variable x\n",
    "    {\n",
    "      return x;\n",
    "    \n",
    "};\n",
    "\n",
    "int main()\n",
    "{\n",
    "  Encapsulation obj;\n",
    "  obj.Set(5);\n",
    "  std::cout << obj.Get() << \"\\n\";\n",
    "}"
   ]
  },
  {
   "cell_type": "markdown",
   "metadata": {
    "graffitiCellId": "id_7n6siw3"
   },
   "source": [
    "<span class=\"graffiti-highlight graffiti-id_7n6siw3-id_vhulebs\"><i></i><button>Compile & Run</button></span>&nbsp;\n",
    "<span class=\"graffiti-highlight graffiti-id_5fni7pt-id_qaubsza\"><i></i><button>Explain</button></span>"
   ]
  },
  {
   "cell_type": "markdown",
   "metadata": {
    "graffitiCellId": "id_gfhfid7",
    "graffitiConfig": {
     "rows": 16,
     "terminalId": "id_oaqkni3",
     "type": "terminal"
    }
   },
   "source": [
    "<i>Loading terminal (id_gfhfid7), please wait...</i>"
   ]
  },
  {
   "cell_type": "markdown",
   "metadata": {
    "graffitiCellId": "id_opauak0"
   },
   "source": [
    "<span class=\"graffiti-highlight graffiti-id_opauak0-id_mc696ee\"><i></i><button>Show Solution</button></span>"
   ]
  }
 ],
 "metadata": {
  "graffiti": {
   "firstAuthorId": "8978490740",
   "id": "id_2fu7960",
   "language": "EN"
  },
  "kernelspec": {
   "display_name": "C++17",
   "language": "C++17",
   "name": "xeus-cling-cpp17"
  },
  "language_info": {
   "codemirror_mode": "text/x-c++src",
   "file_extension": ".cpp",
   "mimetype": "text/x-c++src",
   "name": "c++",
   "version": "-std=c++17"
  }
 },
 "nbformat": 4,
 "nbformat_minor": 2
}
