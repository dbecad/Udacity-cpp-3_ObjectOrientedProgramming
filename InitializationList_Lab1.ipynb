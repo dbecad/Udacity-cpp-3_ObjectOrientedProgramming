{
 "cells": [
  {
   "cell_type": "code",
   "execution_count": null,
   "metadata": {
    "graffitiCellId": "id_u485sh2",
    "graffitiConfig": {
     "executeCellViaGraffiti": "s09b9gg_70n4vp2"
    }
   },
   "outputs": [],
   "source": [
    "#include <iostream>\n",
    "#include <string>\n",
    "class A {\n",
    "    public:\n",
    "        A(int a, double b, char c) : attr1(a), attr2(b), attr3(c)\n",
    "        {\n",
    "            std::cout << \"A constructor\" << \"\\n\";\n",
    "        }\n",
    "        void print() const\n",
    "        {\n",
    "            std::cout << \"A: \" << attr1 << \" \" << attr2 << \" \" << attr3 << \"\\n\";\n",
    "        }\n",
    "    private:\n",
    "        int attr1;\n",
    "        double attr2;\n",
    "        char attr3;\n",
    "};\n",
    "\n",
    "class B {\n",
    "    public:\n",
    "        B(int num, int a, double b, char c) : number(num), attr(a, b, c) \n",
    "        {\n",
    "            std::cout << \"B constructor\" << \"\\n\";\n",
    "        }\n",
    "        void print() const\n",
    "        {\n",
    "            std::cout << \"B: \" << number << \" \";\n",
    "            attr.print();\n",
    "        }\n",
    "    private:\n",
    "        int number;\n",
    "        A attr;\n",
    "};\n",
    "\n",
    "int main() \n",
    "{\n",
    "    B obj(23, 2, 2.3, 'X');\n",
    "    obj.print();\n",
    "}\n"
   ]
  },
  {
   "cell_type": "markdown",
   "metadata": {
    "graffitiCellId": "id_s09b9gg"
   },
   "source": [
    "<span class=\"graffiti-highlight graffiti-id_s09b9gg-id_70n4vp2\"><i></i><button>Compile & Execute</button></span>"
   ]
  },
  {
   "cell_type": "markdown",
   "metadata": {
    "graffitiCellId": "id_avhqyfk",
    "graffitiConfig": {
     "rows": 6,
     "terminalId": "id_xa6yszy",
     "type": "terminal"
    }
   },
   "source": [
    "<i>Loading terminal (id_avhqyfk), please wait...</i>"
   ]
  }
 ],
 "metadata": {
  "graffiti": {
   "firstAuthorId": "8978490740",
   "id": "id_itcdm0e",
   "language": "EN"
  },
  "kernelspec": {
   "display_name": "C++17",
   "language": "C++17",
   "name": "xeus-cling-cpp17"
  },
  "language_info": {
   "codemirror_mode": "text/x-c++src",
   "file_extension": ".cpp",
   "mimetype": "text/x-c++src",
   "name": "c++",
   "version": "-std=c++17"
  }
 },
 "nbformat": 4,
 "nbformat_minor": 2
}
