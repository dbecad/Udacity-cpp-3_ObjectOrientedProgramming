{
 "cells": [
  {
   "cell_type": "code",
   "execution_count": null,
   "metadata": {
    "graffitiCellId": "id_xnfiapd",
    "graffitiConfig": {
     "executeCellViaGraffiti": "cszcwji_iabk114"
    }
   },
   "outputs": [],
   "source": [
    "// include iostream for printing\n",
    "\n",
    "// Declare class Rectangle\n",
    "\n",
    "// Define class Square as friend of Rectangle\n",
    "\n",
    "  // Add private attribute squ_side to Square\n",
    "  \n",
    "  // Add public constructor to Square, initialize squ_side\n",
    "  \n",
    "// Implement Rectangle\n",
    "\n",
    "    // Add private attributes width, height\n",
    "    \n",
    "    // Add public functions to Rectangle: Rec_Area() and convert_SquToRec()\n",
    "\n",
    " // Define convert_SquToRec() to take Square and initialize Rectangle\n",
    "\n",
    "// Define Rec_Area() to compute area of Rectangle\n",
    "\n",
    "// Test in main()\n"
   ]
  },
  {
   "cell_type": "markdown",
   "metadata": {
    "graffitiCellId": "id_cszcwji"
   },
   "source": [
    "<span class=\"graffiti-highlight graffiti-id_cszcwji-id_iabk114\"><i></i><button>Compile & Execute</button></span>&nbsp;\n",
    "<span class=\"graffiti-highlight graffiti-id_amiw9l6-id_lrhzpf7\"><i></i><button>Hide Solution</button></span>"
   ]
  },
  {
   "cell_type": "code",
   "execution_count": null,
   "metadata": {
    "graffitiCellId": "id_lrhzpf7"
   },
   "outputs": [],
   "source": [
    "// Example solution for Rectangle and Square classes\n",
    "// include iostream for printing\n",
    "#include <iostream>\n",
    "// Declare class Rectangle\n",
    "class Rectangle;\n",
    "// Define class Square as friend of Rectangle\n",
    "class Square {\n",
    "    friend class Rectangle;\n",
    "  // Add private attribute squ_side to Square\n",
    "  private:\n",
    "      int squ_side;\n",
    "  // Add public constructor to Square, initialize squ_side\n",
    "  public:\n",
    "      Square(int s) : squ_side(s) {}\n",
    "};\n",
    "// Implement Rectangle\n",
    "class Rectangle {\n",
    "    // Add private attributes rec_width, rec_height\n",
    "    int rec_width, rec_height;\n",
    "    // Add public functions to Rectangle: Rec_Area() and Convert_SquToRec()\n",
    "    public:\n",
    "       int Rec_Area();\n",
    "       void Convert_SquToRec(Square a);\n",
    "};\n",
    " // Define Convert_SquToRec() to take Square and initialize Rectangle\n",
    "void Rectangle::Convert_SquToRec(Square a) {\n",
    "    rec_width = a.squ_side;\n",
    "    rec_height = a.squ_side;\n",
    "}\n",
    "\n",
    "// Define Rec_Area() to compute area of Rectangle\n",
    "int Rectangle::Rec_Area() {\n",
    "    int result = Rectangle::rec_width * Rectangle::rec_height;\n",
    "        return result;\n",
    "}\n",
    "// Test in main()\n",
    "int main()\n",
    "{\n",
    "    Rectangle r;\n",
    "    Square s(4);\n",
    "    r.Convert_SquToRec(s);\n",
    "    std::cout << r.Rec_Area() << \"\\n\";  \n",
    "}"
   ]
  },
  {
   "cell_type": "markdown",
   "metadata": {
    "graffitiCellId": "id_iyjd706",
    "graffitiConfig": {
     "rows": 6,
     "terminalId": "id_mxr9lh6",
     "type": "terminal"
    }
   },
   "source": [
    "<i>Loading terminal (id_iyjd706), please wait...</i>"
   ]
  }
 ],
 "metadata": {
  "graffiti": {
   "firstAuthorId": "8978490740",
   "id": "id_g4m4i1f",
   "language": "EN"
  },
  "kernelspec": {
   "display_name": "C++17",
   "language": "C++17",
   "name": "xeus-cling-cpp17"
  },
  "language_info": {
   "codemirror_mode": "text/x-c++src",
   "file_extension": ".cpp",
   "mimetype": "text/x-c++src",
   "name": "c++",
   "version": "-std=c++17"
  }
 },
 "nbformat": 4,
 "nbformat_minor": 2
}
