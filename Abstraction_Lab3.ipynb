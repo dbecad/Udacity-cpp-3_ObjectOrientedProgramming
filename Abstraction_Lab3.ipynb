{
 "cells": [
  {
   "cell_type": "code",
   "execution_count": null,
   "metadata": {
    "graffitiCellId": "id_8p3uay3",
    "graffitiConfig": {
     "executeCellViaGraffiti": "iugmdyn_j0zfix6"
    }
   },
   "outputs": [],
   "source": [
    "// include iostream for printing\n",
    "\n",
    "// Define class Abstract\n",
    "\n",
    "    // Define private attributes\n",
    "    \n",
    "    // Define private method - Used to perform inner logic\n",
    "        \n",
    "    // Define public getter and setter (getter calls private method)\n",
    "    \n",
    "\n",
    "// Test in main()\n"
   ]
  },
  {
   "cell_type": "markdown",
   "metadata": {
    "graffitiCellId": "id_iugmdyn"
   },
   "source": [
    "<span class=\"graffiti-highlight graffiti-id_iugmdyn-id_j0zfix6\"><i></i><button>Run Code</button></span>"
   ]
  },
  {
   "cell_type": "markdown",
   "metadata": {
    "graffitiCellId": "id_2q0fnq4",
    "graffitiConfig": {
     "rows": 6,
     "terminalId": "id_2q0fnq4",
     "type": "terminal"
    }
   },
   "source": [
    "<i>Loading terminal (id_2q0fnq4), please wait...</i>"
   ]
  },
  {
   "cell_type": "markdown",
   "metadata": {
    "graffitiCellId": "id_8i5emwc"
   },
   "source": [
    "<span class=\"graffiti-highlight graffiti-id_8i5emwc-id_33jk5a0\"><i></i><button>Hide Solution</button></span>"
   ]
  },
  {
   "cell_type": "code",
   "execution_count": null,
   "metadata": {
    "graffitiCellId": "id_33jk5a0"
   },
   "outputs": [],
   "source": [
    "// Solution for Abstract Class\n",
    "// include iostream for printing\n",
    "#include <iostream>\n",
    "// Define class Abstract\n",
    "class  Abstract {\n",
    "    // Define private attributes\n",
    "    private:\n",
    "        int number;\n",
    "        char character;\n",
    "        // Define private method - Used to perform inner logic\n",
    "        void ProcessAttributes(void);\n",
    "\n",
    "    // Define public getter and setter (one calls private method)\n",
    "    public:\n",
    "        void SetMyValues(int n, char c);\n",
    "        void GetMyValues(void);\n",
    "    };\n",
    "\n",
    "void Abstract::ProcessAttributes() {\n",
    "    Abstract::number *= 6;\n",
    "    Abstract::character++;\n",
    "}\n",
    "void Abstract::SetMyValues(int n, char c) {\n",
    "    Abstract::number = n; Abstract::character = c;\n",
    "}\n",
    "void Abstract::GetMyValues() {\n",
    "    Abstract::ProcessAttributes();\n",
    "    std::cout << \"Number is: \" << Abstract::number << \"\\n\";\n",
    "    std::cout << \"Character is: \" << Abstract::character << \"\\n\";\n",
    "}\n",
    "// Test in main()\n",
    "int main() {\n",
    "    Abstract a;\n",
    "    a.SetMyValues(100, 'X');\n",
    "    a.GetMyValues();\n",
    "    a.GetMyValues();\n",
    "}"
   ]
  }
 ],
 "metadata": {
  "graffiti": {
   "firstAuthorId": "8978490740",
   "id": "id_itcdm0e",
   "language": "EN"
  },
  "kernelspec": {
   "display_name": "C++17",
   "language": "C++17",
   "name": "xeus-cling-cpp17"
  },
  "language_info": {
   "codemirror_mode": "text/x-c++src",
   "file_extension": ".cpp",
   "mimetype": "text/x-c++src",
   "name": "c++",
   "version": "-std=c++17"
  }
 },
 "nbformat": 4,
 "nbformat_minor": 2
}
