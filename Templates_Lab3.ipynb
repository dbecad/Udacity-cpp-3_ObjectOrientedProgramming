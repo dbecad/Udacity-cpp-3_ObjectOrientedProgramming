{
 "cells": [
  {
   "cell_type": "code",
   "execution_count": null,
   "metadata": {
    "graffitiCellId": "id_h0azs4e",
    "graffitiConfig": {
     "executeCellViaGraffiti": "1uovx7x_ewt8ehi"
    }
   },
   "outputs": [],
   "source": [
    "#include <iostream>\n",
    "#include <algorithm> \n",
    "#include <vector>\n",
    "\n",
    "// template function comparison of two numbers\n",
    "template <typename T>\n",
    "bool func(T x, T y)\n",
    "{\n",
    "    return (x < y);\n",
    "}\n",
    "\n",
    "// template for printing\n",
    "template <typename T>\n",
    "void print(std::vector<T> v) \n",
    "{\n",
    "    for (int i = 0; i < v.size(); i++) {\n",
    "        std::cout << v[i] << \" \";\n",
    "    }\n",
    "    std::cout << \"\\n\";\n",
    "}\n",
    "\n",
    "//main function\n",
    "int main() \n",
    "{\n",
    "std::vector<double> v = {9,3,2,32.32,10.323,10.0003,4.9789};\n",
    "std::vector<char> v2 = {'a','Z','M','x','Y','c','U'};\n",
    "\n",
    "print(v);\n",
    "// Deducing function return type\n",
    "std::sort(v.begin(), v.end(), func<double>);\n",
    "print(v);\n",
    "// For input parameters as PrintVector we have total deduction,without specification\n",
    "print(v2);\n",
    "// this will support any type of that which has defined support for (in this case) < operator\n",
    "std::sort(v2.begin(), v2.end(), func<char>);\n",
    "print(v2);\n",
    "}"
   ]
  },
  {
   "cell_type": "markdown",
   "metadata": {
    "graffitiCellId": "id_1uovx7x"
   },
   "source": [
    "<span class=\"graffiti-highlight graffiti-id_1uovx7x-id_ewt8ehi\"><i></i><button>Compile & Execute</button></span>"
   ]
  },
  {
   "cell_type": "markdown",
   "metadata": {
    "graffitiCellId": "id_wgk18rm",
    "graffitiConfig": {
     "rows": 10,
     "terminalId": "id_kimxjbx",
     "type": "terminal"
    }
   },
   "source": [
    "<i>Loading terminal (id_wgk18rm), please wait...</i>"
   ]
  }
 ],
 "metadata": {
  "graffiti": {
   "firstAuthorId": "8978490740",
   "id": "id_itcdm0e",
   "language": "EN"
  },
  "kernelspec": {
   "display_name": "C++17",
   "language": "C++17",
   "name": "xeus-cling-cpp17"
  },
  "language_info": {
   "codemirror_mode": "text/x-c++src",
   "file_extension": ".cpp",
   "mimetype": "text/x-c++src",
   "name": "c++",
   "version": "-std=c++17"
  }
 },
 "nbformat": 4,
 "nbformat_minor": 2
}
