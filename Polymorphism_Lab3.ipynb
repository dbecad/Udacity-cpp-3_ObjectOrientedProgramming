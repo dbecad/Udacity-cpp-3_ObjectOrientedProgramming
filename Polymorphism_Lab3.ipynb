{
 "cells": [
  {
   "cell_type": "code",
   "execution_count": null,
   "metadata": {
    "graffitiCellId": "id_ap6rd3a",
    "graffitiConfig": {
     "executeCellViaGraffiti": "7c2aqo1_gymaqxx"
    }
   },
   "outputs": [],
   "source": [
    "// include iostream for printing\n",
    "\n",
    "// Define Point class\n",
    "\n",
    "    // Declare private attributes x and y\n",
    "\n",
    "    // Define public constructor\n",
    "    // Define operator overload\n",
    "    // Define print() function\n",
    "    // Overload print() function to take 1 or 2 input params\n",
    "    \n",
    "// Test in main()\n"
   ]
  },
  {
   "cell_type": "markdown",
   "metadata": {
    "graffitiCellId": "id_7c2aqo1"
   },
   "source": [
    "<span class=\"graffiti-highlight graffiti-id_7c2aqo1-id_gymaqxx\"><i></i><button>Compile & Execute</button></span>&nbsp;\n",
    "<span class=\"graffiti-highlight graffiti-id_b7pwvhc-id_8w54fuk\"><i></i><button>Show Solution</button></span>"
   ]
  },
  {
   "cell_type": "markdown",
   "metadata": {
    "graffitiCellId": "id_4cl0nre",
    "graffitiConfig": {
     "rows": 6,
     "terminalId": "id_4cl0nre",
     "type": "terminal"
    }
   },
   "source": [
    "<i>Loading terminal (id_4cl0nre), please wait...</i>"
   ]
  }
 ],
 "metadata": {
  "graffiti": {
   "firstAuthorId": "8978490740",
   "id": "id_itcdm0e",
   "language": "EN"
  },
  "kernelspec": {
   "display_name": "C++17",
   "language": "C++17",
   "name": "xeus-cling-cpp17"
  },
  "language_info": {
   "codemirror_mode": "text/x-c++src",
   "file_extension": ".cpp",
   "mimetype": "text/x-c++src",
   "name": "c++",
   "version": "-std=c++17"
  }
 },
 "nbformat": 4,
 "nbformat_minor": 2
}
