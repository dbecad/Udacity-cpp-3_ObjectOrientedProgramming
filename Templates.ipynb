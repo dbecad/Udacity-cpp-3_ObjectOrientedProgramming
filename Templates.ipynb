{
 "cells": [
  {
   "cell_type": "code",
   "execution_count": null,
   "metadata": {
    "graffitiCellId": "id_4z4zish",
    "graffitiConfig": {
     "executeCellViaGraffiti": "ee2qhza_l14lll1"
    }
   },
   "outputs": [],
   "source": [
    "#include<iostream>\n",
    "\n",
    "template<class T, class U = char>\n",
    "class A  {\n",
    "    public:\n",
    "        T x;\n",
    "        U y;\n",
    "        A() { std::cout << \"Constructor Called\" << \"\\n\"; }\n",
    "};\n",
    "\n",
    "int main()  \n",
    "{\n",
    "    A<char> a;  // This will call A<char, char>    \n",
    "}"
   ]
  },
  {
   "cell_type": "markdown",
   "metadata": {
    "graffitiCellId": "id_ee2qhza"
   },
   "source": [
    "<span class=\"graffiti-highlight graffiti-id_ee2qhza-id_l14lll1\"><i></i><button>Compile & Execute</button></span>"
   ]
  },
  {
   "cell_type": "markdown",
   "metadata": {
    "graffitiCellId": "id_0mahhfj",
    "graffitiConfig": {
     "rows": 6,
     "terminalId": "id_0mahhfj",
     "type": "terminal"
    }
   },
   "source": [
    "<i>Loading terminal (id_0mahhfj), please wait...</i>"
   ]
  }
 ],
 "metadata": {
  "graffiti": {
   "firstAuthorId": "8978490740",
   "id": "id_oe3ihce",
   "language": "EN"
  },
  "kernelspec": {
   "display_name": "C++17",
   "language": "C++17",
   "name": "xeus-cling-cpp17"
  },
  "language_info": {
   "codemirror_mode": "text/x-c++src",
   "file_extension": ".cpp",
   "mimetype": "text/x-c++src",
   "name": "c++",
   "version": "-std=c++17"
  }
 },
 "nbformat": 4,
 "nbformat_minor": 2
}
