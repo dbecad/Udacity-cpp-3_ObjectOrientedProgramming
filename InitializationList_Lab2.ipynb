{
 "cells": [
  {
   "cell_type": "code",
   "execution_count": null,
   "metadata": {
    "graffitiCellId": "id_i69spze",
    "graffitiConfig": {
     "executeCellViaGraffiti": "v8cy73q_aqehu2s"
    }
   },
   "outputs": [],
   "source": [
    "#include <iostream>\n",
    "#include <string>\n",
    "class InitList {\n",
    "    public:\n",
    "        // Initialization list is defined as part of constructor syntax\n",
    "        InitList(int &_ref,char _c): ref(_ref), c(_c) {}\n",
    "        void print() \n",
    "        {\n",
    "            std::cout << ref << \" \" << c << \"\\n\";\n",
    "        }\n",
    "    private:\n",
    "        int &ref; // reference\n",
    "        const char c; // const\n",
    "};\n",
    "\n",
    "int main()\n",
    "{\n",
    "    int var = 10;\n",
    "    InitList obj(var, 'A');\n",
    "    obj.print();\n",
    "    // Referenced variable:\n",
    "    var += 10;\n",
    "    obj.print(); // obj.ref == 20\n",
    "}\n"
   ]
  },
  {
   "cell_type": "markdown",
   "metadata": {
    "graffitiCellId": "id_v8cy73q"
   },
   "source": [
    "<span class=\"graffiti-highlight graffiti-id_v8cy73q-id_aqehu2s\"><i></i><button>Compile & Execute</button></span>"
   ]
  },
  {
   "cell_type": "markdown",
   "metadata": {
    "graffitiCellId": "id_h2aq88q",
    "graffitiConfig": {
     "rows": 6,
     "terminalId": "id_b5tqpne",
     "type": "terminal"
    }
   },
   "source": [
    "<i>Loading terminal (id_h2aq88q), please wait...</i>"
   ]
  }
 ],
 "metadata": {
  "graffiti": {
   "firstAuthorId": "8978490740",
   "id": "id_itcdm0e",
   "language": "EN"
  },
  "kernelspec": {
   "display_name": "C++17",
   "language": "C++17",
   "name": "xeus-cling-cpp17"
  },
  "language_info": {
   "codemirror_mode": "text/x-c++src",
   "file_extension": ".cpp",
   "mimetype": "text/x-c++src",
   "name": "c++",
   "version": "-std=c++17"
  }
 },
 "nbformat": 4,
 "nbformat_minor": 2
}
