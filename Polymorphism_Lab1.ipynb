{
 "cells": [
  {
   "cell_type": "code",
   "execution_count": null,
   "metadata": {
    "graffitiCellId": "id_n4kd2q6",
    "graffitiConfig": {
     "executeCellViaGraffiti": "i3jaz0a_4gzqzu3"
    }
   },
   "outputs": [],
   "source": [
    "// include iostream for printing\n",
    "\n",
    "// Define pi constant\n",
    "\n",
    "// Define Shape base class\n",
    "// strictly base class because its interface is pure virtual methods\n",
    "\n",
    "    // Define public empty constructor\n",
    "    // Define public virtual Area() and PerimeterLength()\n",
    "    \n",
    "        //const = 0 specifier in interface is telling the compiler that this method must be implemented in one of the derived classes\n",
    "        // For this class it is just part of the interface\n",
    "\n",
    "// Define Rectangle to inherit publicly from Shape\n",
    "\n",
    "    // Declare private attributes width and height\n",
    "    \n",
    "    // Declare public constructor\n",
    "    // Override virtual base class functions\n",
    "\n",
    "        // Overriding methods\n",
    "\n",
    "// Define Circle to inherit publicly from Shape\n",
    "\n",
    "    // Declare private attributes width and height\n",
    "    \n",
    "    // Declare public constructor\n",
    "    // Override virtual base class functions\n",
    "\n",
    "\n",
    "// Test in main()\n"
   ]
  },
  {
   "cell_type": "markdown",
   "metadata": {
    "graffitiCellId": "id_i3jaz0a"
   },
   "source": [
    "<span class=\"graffiti-highlight graffiti-id_i3jaz0a-id_4gzqzu3\"><i></i><button>Compile & Execute</button></span>&nbsp;\n",
    "<span class=\"graffiti-highlight graffiti-id_ktuns04-id_tbe7zwp\"><i></i><button>Hide Solution</button></span>"
   ]
  },
  {
   "cell_type": "code",
   "execution_count": null,
   "metadata": {
    "graffitiCellId": "id_tbe7zwp"
   },
   "outputs": [],
   "source": [
    "// Example solution for Shape inheritance\n",
    "// include iostream for printing\n",
    "#include <iostream>\n",
    "\n",
    "// Define pi constant\n",
    "const double pi = 3.14159;\n",
    "\n",
    "// Define Shape base class\n",
    "// strictly base class because its interface is pure virtual methods\n",
    "class Shape {\n",
    "    // Define public empty constructor\n",
    "    // Define public virtual Area() and PerimeterLength()\n",
    "    public:\n",
    "        Shape() {}\n",
    "        //const = 0 specifier in interface is telling the compiler that this method must be implemented in one of the derived classes\n",
    "        // For this class it is just part of the interface\n",
    "        virtual double Area() const = 0;\n",
    "        virtual double PerimeterLength() const = 0;\n",
    "};\n",
    "\n",
    "// Define Rectangle to inherit publicly from Shape\n",
    "class Rectangle : public Shape {\n",
    "    // Declare private attributes width and height\n",
    "    private:\n",
    "        double width;\n",
    "        double height;\n",
    "    // Declare public constructor\n",
    "    // Override virtual base class functions\n",
    "    public:\n",
    "        Rectangle(double w, double h) {\n",
    "            Rectangle::width = w;\n",
    "            Rectangle::height = h;\n",
    "        }\n",
    "        // Overriding methods\n",
    "        virtual double Area() const override{\n",
    "            std::cout << \"Rectangle:\" << \"\\n\";\n",
    "            return width*height;\n",
    "        }\n",
    "        virtual double PerimeterLength() const override{\n",
    "            std::cout << \"Rectangle:\" << \"\\n\";\n",
    "            return 2*(width + height);\n",
    "        }\n",
    "};\n",
    "\n",
    "// Define Circle to inherit publicly from Shape\n",
    "class Circle : public Shape {\n",
    "    // Declare private attributes width and height\n",
    "    private:\n",
    "        double radius;\n",
    "    // Declare public constructor\n",
    "    // Override virtual base class functions\n",
    "    public:\n",
    "        Circle(double r) {\n",
    "            Circle::radius = r;\n",
    "        }\n",
    "        virtual double Area() const override {\n",
    "            std::cout << \"Circle:\" << \"\\n\";\n",
    "            return Circle::radius*Circle::radius*pi;\n",
    "        }\n",
    "        virtual double PerimeterLength() const override{\n",
    "            std::cout << \"Circle:\" << \"\\n\";\n",
    "            return 2 * radius*pi;\n",
    "    }\n",
    "};\n",
    "// Test in main()\n",
    "int main() {\n",
    "    // Generic containter of Shapes (array) :\n",
    "    Shape** shapes = new Shape*[2];\n",
    "    shapes[0] = new Circle(12.31);\n",
    "    shapes[1] = new Rectangle(10, 6);\n",
    "    for (int i = 0;i < 2;i++) {\n",
    "        std::cout << \"Area: \" << shapes[i]->Area()<< \"\\n\";\n",
    "        std::cout << \"Perimeter: \" << shapes[i]->PerimeterLength() << \"\\n\";\n",
    "\n",
    "    }\n",
    "}\n"
   ]
  },
  {
   "cell_type": "markdown",
   "metadata": {
    "graffitiCellId": "id_axz5p8d",
    "graffitiConfig": {
     "rows": 6,
     "terminalId": "id_p3sc0xd",
     "type": "terminal"
    }
   },
   "source": [
    "<i>Loading terminal (id_axz5p8d), please wait...</i>"
   ]
  }
 ],
 "metadata": {
  "graffiti": {
   "firstAuthorId": "8978490740",
   "id": "id_itcdm0e",
   "language": "EN"
  },
  "kernelspec": {
   "display_name": "C++17",
   "language": "C++17",
   "name": "xeus-cling-cpp17"
  },
  "language_info": {
   "codemirror_mode": "text/x-c++src",
   "file_extension": ".cpp",
   "mimetype": "text/x-c++src",
   "name": "c++",
   "version": "-std=c++17"
  }
 },
 "nbformat": 4,
 "nbformat_minor": 2
}
