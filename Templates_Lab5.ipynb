{
 "cells": [
  {
   "cell_type": "code",
   "execution_count": null,
   "metadata": {
    "graffitiCellId": "id_xjfe8sc",
    "graffitiConfig": {
     "executeCellViaGraffiti": "38a6fwt_ckqcros"
    }
   },
   "outputs": [],
   "source": [
    "#include <iostream>\n",
    "#include <vector>\n",
    "\n",
    "// generic class definition type T\n",
    "template <class T>\n",
    "class Container {\n",
    "    std::vector<T> arr;\n",
    "    int s;\n",
    "    public:\n",
    "        Container() : s(0) \n",
    "        {\n",
    "            arr.clear();\n",
    "        }\n",
    "        int size(void) const \n",
    "        {\n",
    "            return Container::s;\n",
    "        }\n",
    "        void add(T el) \n",
    "        {\n",
    "            Container::s++;\n",
    "            arr.push_back(el);\n",
    "        }\n",
    "        void print(void) \n",
    "        {\n",
    "            for (T i : arr) {\n",
    "                std::cout << i << \" \";\n",
    "            }\n",
    "            std::cout << \"\\n\" << \"Container::size: \" << Container::s << \"\\n\";\n",
    "        }\n",
    "};\n",
    "\n",
    "\n",
    "int main()\n",
    "{\n",
    "    Container<double> obj; // Partial deduction: element type is specified\n",
    "    obj.add(2.00329132);\n",
    "    obj.print();\n",
    "    obj.add(8.83);\n",
    "    obj.print();\n",
    "    // TARGET OUTPUT:\n",
    "    /*\n",
    "        2.00329\n",
    "        Size is:1\n",
    "        2.00329 8.83\n",
    "        Size is:2\n",
    "    */\n",
    "    return 0;\n",
    "}"
   ]
  },
  {
   "cell_type": "markdown",
   "metadata": {
    "graffitiCellId": "id_38a6fwt"
   },
   "source": [
    "<span class=\"graffiti-highlight graffiti-id_38a6fwt-id_ckqcros\"><i></i><button>Compile & Execute</button></span>"
   ]
  },
  {
   "cell_type": "markdown",
   "metadata": {
    "graffitiCellId": "id_jglxvs5",
    "graffitiConfig": {
     "rows": 10,
     "terminalId": "id_f7s7f9r",
     "type": "terminal"
    }
   },
   "source": [
    "<i>Loading terminal (id_jglxvs5), please wait...</i>"
   ]
  }
 ],
 "metadata": {
  "graffiti": {
   "firstAuthorId": "8978490740",
   "id": "id_itcdm0e",
   "language": "EN"
  },
  "kernelspec": {
   "display_name": "C++17",
   "language": "C++17",
   "name": "xeus-cling-cpp17"
  },
  "language_info": {
   "codemirror_mode": "text/x-c++src",
   "file_extension": ".cpp",
   "mimetype": "text/x-c++src",
   "name": "c++",
   "version": "-std=c++17"
  }
 },
 "nbformat": 4,
 "nbformat_minor": 2
}
