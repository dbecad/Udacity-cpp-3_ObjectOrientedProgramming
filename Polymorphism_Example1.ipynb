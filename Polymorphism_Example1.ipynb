{
 "cells": [
  {
   "cell_type": "code",
   "execution_count": null,
   "metadata": {
    "graffitiCellId": "id_xqu75ol",
    "graffitiConfig": {
     "executeCellViaGraffiti": "htywwzb_chjzeki"
    }
   },
   "outputs": [],
   "source": [
    "#include<iostream>\n",
    "\n",
    "class Date {\n",
    "\n",
    "    private:\n",
    "        int day;\n",
    "        int month;\n",
    "        std::string month_name;\n",
    "        int year;\n",
    "    \n",
    "    public:\n",
    "        void SetDate(int day, int month, int year);\n",
    "        int GetDay();\n",
    "        int GetMonth();\n",
    "        std::string GetMonthName();\n",
    "        int GetYear();\n",
    "        std::string PrintDate(int day, std::string month_name, int year);\n",
    "        std::string PrintDate(int day, int month, int year);\n",
    "};\n",
    "\n",
    "void Date::SetDate(int day, int month, int year) \n",
    "{\n",
    "    int day_numbers[]{31, 28, 31, 30, 31, 30, 31, 31, 30, 31, 30, 31};\n",
    "    std::string month_names[]{\"Jan\", \"Feb\", \"Mar\", \"Apr\", \"May\", \"Jun\", \"Jul\", \"Aug\", \"Sep\", \"Oct\", \"Nov\", \"Dec\"};\n",
    "\n",
    "    if(year % 4 == 0 && year % 100 != 0 || year% 400 == 0)\n",
    "        day_numbers[1]++;\n",
    "\n",
    "    if(year < 1 || day < 1 || month < 1 || month > 12 || day > day_numbers[month - 1])\n",
    "        throw std::domain_error(\"Invalid date!\");\n",
    "\n",
    "    Date::day = day; \n",
    "    Date::month = month; \n",
    "    Date::month_name = month_names[month - 1];\n",
    "    Date::year = year;\n",
    "}\n",
    "\n",
    "int Date::GetDay() \n",
    "{ \n",
    "    return day; \n",
    "}\n",
    "int Date::GetMonth() \n",
    "{ \n",
    "    return month; \n",
    "}\n",
    "std::string Date::GetMonthName() \n",
    "{ \n",
    "    return month_name; \n",
    "}\n",
    "int Date::GetYear() \n",
    "{ \n",
    "    return year; \n",
    "}\n",
    "\n",
    "std::string Date::PrintDate(int day, int month, int year) \n",
    "{\n",
    "  std::string result = std::to_string(day) + \"/\" + std::to_string(month) + \"/\" + std::to_string(year);\n",
    "  std::cout << \"Using int month version!\" << \"\\n\";\n",
    "  return result;\n",
    "}\n",
    "\n",
    "std::string Date::PrintDate(int day, std::string month_name, int year) \n",
    "{\n",
    "  std::string result = month_name + \" \"  + std::to_string(day) + \", \"  + std::to_string(year);\n",
    "  std::cout << \"Using string month_name version!\" << \"\\n\";\n",
    "  return result;\n",
    "}\n",
    "int main()\n",
    "{\n",
    "   Date date;\n",
    "   date.SetDate(1, 10, 2019);\n",
    "   std::cout << date.PrintDate(1, \"Feb\", 2003) << \"\\n\";\n",
    "   std::cout << date.PrintDate(1, 2, 2003) << \"\\n\";\n",
    "}"
   ]
  },
  {
   "cell_type": "markdown",
   "metadata": {
    "graffitiCellId": "id_htywwzb"
   },
   "source": [
    "<span class=\"graffiti-highlight graffiti-id_htywwzb-id_chjzeki\"><i></i><button>Compile & Execute</button></span>"
   ]
  },
  {
   "cell_type": "markdown",
   "metadata": {
    "graffitiCellId": "id_wvmjmjg",
    "graffitiConfig": {
     "rows": 6,
     "terminalId": "id_kf1b6xe",
     "type": "terminal"
    }
   },
   "source": [
    "<i>Loading terminal (id_wvmjmjg), please wait...</i>"
   ]
  }
 ],
 "metadata": {
  "graffiti": {
   "firstAuthorId": "8978490740",
   "id": "id_jnkqpsu",
   "language": "EN"
  },
  "kernelspec": {
   "display_name": "C++17",
   "language": "C++17",
   "name": "xeus-cling-cpp17"
  },
  "language_info": {
   "codemirror_mode": "text/x-c++src",
   "file_extension": ".cpp",
   "mimetype": "text/x-c++src",
   "name": "c++",
   "version": "-std=c++17"
  }
 },
 "nbformat": 4,
 "nbformat_minor": 2
}
