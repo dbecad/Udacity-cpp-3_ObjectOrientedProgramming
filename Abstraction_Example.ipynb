{
 "cells": [
  {
   "cell_type": "code",
   "execution_count": null,
   "metadata": {
    "graffitiCellId": "id_s1xqk3y",
    "graffitiConfig": {
     "executeCellViaGraffiti": "xap16ga_0gaki93"
    }
   },
   "outputs": [],
   "source": [
    "#include <iostream>\n",
    "//now our class looks like:\n",
    "class Date {\n",
    "  private:\n",
    "    int day;\n",
    "    int month;\n",
    "    int year;\n",
    "  public:\n",
    "    void SetDate(int day,int month,int year);\n",
    "    std::string GetDate();\n",
    "};\n",
    "\n",
    "void Date :: SetDate(int day, int month, int year) \n",
    "{\n",
    "    int day_numbers[]{31, 28, 31, 30, 31, 30, 31, 31, 30, 31, 30, 31};\n",
    "\n",
    "    if(year % 4 == 0 && year % 100 != 0 || year% 400 == 0)\n",
    "        day_numbers[1]++;\n",
    "\n",
    "    if(year < 1 || day < 1 || month < 1 || month > 12 || day > day_numbers[month - 1])\n",
    "        throw std::domain_error(\"Invalid date!\");\n",
    "\n",
    "    Date::day = day; \n",
    "    Date::month = month; \n",
    "    Date::year =year;\n",
    "}\n",
    "\n",
    "std::string Date::GetDate() \n",
    "{\n",
    "  std::string result = std::to_string(Date::day) + \"/\" + std::to_string(Date::month) + \"/\" + std::to_string(Date::year);\n",
    "\n",
    "  return result;\n",
    "}\n",
    "\n",
    "int main() \n",
    "{\n",
    "    Date birth_date;\n",
    "    birth_date.SetDate(20, 2, 2019);\n",
    "    std::cout << birth_date.GetDate() << \"\\n\";\n",
    "\n",
    "}"
   ]
  },
  {
   "cell_type": "markdown",
   "metadata": {
    "graffitiCellId": "id_xap16ga"
   },
   "source": [
    "<span class=\"graffiti-highlight graffiti-id_xap16ga-id_0gaki93\"><i></i><button>Compile & Run</button></span>&nbsp;\n",
    "<span class=\"graffiti-highlight graffiti-id_wdg4m8l-id_hj3p5a3\"><i></i><button>Explain</button></span>"
   ]
  },
  {
   "cell_type": "markdown",
   "metadata": {
    "graffitiCellId": "id_mnjjujf",
    "graffitiConfig": {
     "rows": 6,
     "terminalId": "id_mnjjujf",
     "type": "terminal"
    }
   },
   "source": [
    "<i>Loading terminal (id_mnjjujf), please wait...</i>"
   ]
  }
 ],
 "metadata": {
  "graffiti": {
   "firstAuthorId": "8978490740",
   "id": "id_itcdm0e",
   "language": "EN"
  },
  "kernelspec": {
   "display_name": "C++17",
   "language": "C++17",
   "name": "xeus-cling-cpp17"
  },
  "language_info": {
   "codemirror_mode": "text/x-c++src",
   "file_extension": ".cpp",
   "mimetype": "text/x-c++src",
   "name": "c++",
   "version": "-std=c++17"
  }
 },
 "nbformat": 4,
 "nbformat_minor": 2
}
