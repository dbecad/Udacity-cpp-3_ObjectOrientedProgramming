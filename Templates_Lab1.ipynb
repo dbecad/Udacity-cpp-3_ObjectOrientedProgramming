{
 "cells": [
  {
   "cell_type": "code",
   "execution_count": null,
   "metadata": {
    "graffitiCellId": "id_rqbwpk6",
    "graffitiConfig": {
     "executeCellViaGraffiti": "oz2wdh8_8xclgqa"
    }
   },
   "outputs": [],
   "source": [
    "#include <iostream>\n",
    "\n",
    "// Here we will create the template\n",
    "template <class T>\n",
    "T ReturnMax(T a, T b) \n",
    "{\n",
    "   if(a > b) \n",
    "       return a;\n",
    "   else \n",
    "       return b;\n",
    "}\n",
    "\n",
    "int main()\n",
    "{\n",
    "    int num1 = 50;\n",
    "    int num2 = 10;\n",
    "\n",
    "    // The ReturnMax will work for both int and double values\n",
    "\n",
    "    // Return the larger of two integers\n",
    "    int res = ReturnMax(num1, num2);\n",
    "    std::cout << \"Bigger one is: \" << res << \"\\n\";\n",
    "\n",
    "    double n1 = 45.65;\n",
    "    double n2 = 100.45;\n",
    "    // Return the larger of two doubles\n",
    "    double res2 = ReturnMax(n1, n2);\n",
    "\n",
    "    std::cout << \"Bigger one is: \" << res2 << \"\\n\";\n",
    "}"
   ]
  },
  {
   "cell_type": "markdown",
   "metadata": {
    "graffitiCellId": "id_oz2wdh8"
   },
   "source": [
    "<span class=\"graffiti-highlight graffiti-id_oz2wdh8-id_8xclgqa\"><i></i><button>Compile & Execute</button></span>"
   ]
  },
  {
   "cell_type": "markdown",
   "metadata": {
    "graffitiCellId": "id_87qqzi7",
    "graffitiConfig": {
     "rows": 6,
     "terminalId": "id_vidaoka",
     "type": "terminal"
    }
   },
   "source": [
    "<i>Loading terminal (id_87qqzi7), please wait...</i>"
   ]
  },
  {
   "cell_type": "code",
   "execution_count": null,
   "metadata": {
    "graffitiCellId": "id_x3q7q5y"
   },
   "outputs": [],
   "source": []
  }
 ],
 "metadata": {
  "graffiti": {
   "firstAuthorId": "8978490740",
   "id": "id_x03qg55",
   "language": "EN"
  },
  "kernelspec": {
   "display_name": "C++17",
   "language": "C++17",
   "name": "xeus-cling-cpp17"
  },
  "language_info": {
   "codemirror_mode": "text/x-c++src",
   "file_extension": ".cpp",
   "mimetype": "text/x-c++src",
   "name": "c++",
   "version": "-std=c++17"
  }
 },
 "nbformat": 4,
 "nbformat_minor": 2
}
