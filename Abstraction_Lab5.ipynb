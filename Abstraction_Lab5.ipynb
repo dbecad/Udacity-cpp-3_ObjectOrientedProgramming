{
 "cells": [
  {
   "cell_type": "code",
   "execution_count": null,
   "metadata": {
    "graffitiCellId": "id_vanw1mk",
    "graffitiConfig": {
     "executeCellViaGraffiti": "ep9t7mr_40kq58u"
    }
   },
   "outputs": [],
   "source": [
    "#include <iostream>\n",
    "\n",
    "class  Abstraction {\n",
    "private:\n",
    "    int number;\n",
    "    char character;\n",
    "public:\n",
    "    void static PrintCharAsNumber(char c);\n",
    "};\n",
    "void Abstraction::PrintCharAsNumber(char c) {\n",
    "    int result = c;\n",
    "    std::cout << result << \"\\n\";\n",
    "}\n",
    "\n",
    "int main() {\n",
    "    char c = 'X';\n",
    "    Abstraction::PrintCharAsNumber(c);\n",
    "    // OUTPUT: 88\n",
    "}"
   ]
  },
  {
   "cell_type": "markdown",
   "metadata": {
    "graffitiCellId": "id_ep9t7mr"
   },
   "source": [
    "<span class=\"graffiti-highlight graffiti-id_ep9t7mr-id_40kq58u\"><i></i><button>Run Code</button></span>"
   ]
  },
  {
   "cell_type": "markdown",
   "metadata": {
    "graffitiCellId": "id_v3vkz0t",
    "graffitiConfig": {
     "rows": 6,
     "terminalId": "id_v3vkz0t",
     "type": "terminal"
    }
   },
   "source": [
    "<i>Loading terminal (id_v3vkz0t), please wait...</i>"
   ]
  },
  {
   "cell_type": "code",
   "execution_count": null,
   "metadata": {
    "graffitiCellId": "id_0yjvlws"
   },
   "outputs": [],
   "source": []
  }
 ],
 "metadata": {
  "graffiti": {
   "firstAuthorId": "8978490740",
   "id": "id_itcdm0e",
   "language": "EN"
  },
  "kernelspec": {
   "display_name": "C++17",
   "language": "C++17",
   "name": "xeus-cling-cpp17"
  },
  "language_info": {
   "codemirror_mode": "text/x-c++src",
   "file_extension": ".cpp",
   "mimetype": "text/x-c++src",
   "name": "c++",
   "version": "-std=c++17"
  }
 },
 "nbformat": 4,
 "nbformat_minor": 2
}
