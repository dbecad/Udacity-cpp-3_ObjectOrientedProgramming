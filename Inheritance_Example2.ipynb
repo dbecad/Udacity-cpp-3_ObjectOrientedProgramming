{
 "cells": [
  {
   "cell_type": "code",
   "execution_count": null,
   "metadata": {
    "graffitiCellId": "id_cqakop6",
    "graffitiConfig": {
     "executeCellViaGraffiti": "n2c0g4v_zk1ycnk"
    }
   },
   "outputs": [],
   "source": [
    "// This example demonstrates the privacy levels\n",
    "// between parent and child classes\n",
    "#include<iostream>\n",
    "\n",
    "class ParentClass{\n",
    "\n",
    "public:\n",
    "    int var1;\n",
    "protected:\n",
    "    int var2;\n",
    "private:\n",
    "    int var3;\n",
    "\n",
    "};\n",
    "\n",
    "class ChildClass_1 : public ParentClass{\n",
    "\n",
    "   // var1 is public for this class\n",
    "   // var2 is protected for this class\n",
    "   // var3 cannot be accessed from ChildClass_1\n",
    "};\n",
    "\n",
    "class ChildClass_2 : protected ParentClass{\n",
    "\n",
    "   // var1 is protected for this class\n",
    "   // var2 is protected for this class\n",
    "   // var3 cannot be accessed from ChildClass_2\n",
    "};\n",
    "\n",
    "class ChildClass_3 : private ParentClass{\n",
    "\n",
    "   // var1 is private for this class\n",
    "   // var2 is private for this class\n",
    "   // var3 cannot be accessed from ChildClass_3\n",
    "};\n",
    "\n",
    "int main() {\n",
    "    ChildClass_1 c1;\n",
    "    ChildClass_2 c2;\n",
    "    ChildClass_3 c3;\n",
    "    c1.var1 = 4;\n",
    "    std::cout << c1.var1 << \"\\n\";\n",
    "    //Try running the statements below...\n",
    "    //Which one do you expect to work?\n",
    "    //c2.var1 = 5;\n",
    "    //std::cout << c2.var1 << \"\\n\";\n",
    "    //c3.var1 = 6\n",
    "    //std::cout << c3.var1 << \"\\n\";\n",
    "    \n",
    "}"
   ]
  },
  {
   "cell_type": "markdown",
   "metadata": {
    "graffitiCellId": "id_n2c0g4v"
   },
   "source": [
    "<span class=\"graffiti-highlight graffiti-id_n2c0g4v-id_zk1ycnk\"><i></i><button>Compile & Execute</button></span>"
   ]
  },
  {
   "cell_type": "markdown",
   "metadata": {
    "graffitiCellId": "id_6jlky9u",
    "graffitiConfig": {
     "rows": 6,
     "terminalId": "id_7574u43",
     "type": "terminal"
    }
   },
   "source": [
    "<i>Loading terminal (id_6jlky9u), please wait...</i>"
   ]
  }
 ],
 "metadata": {
  "graffiti": {
   "firstAuthorId": "8978490740",
   "id": "id_xnc2lo4",
   "language": "EN"
  },
  "kernelspec": {
   "display_name": "C++17",
   "language": "C++17",
   "name": "xeus-cling-cpp17"
  },
  "language_info": {
   "codemirror_mode": "text/x-c++src",
   "file_extension": ".cpp",
   "mimetype": "text/x-c++src",
   "name": "c++",
   "version": "-std=c++17"
  }
 },
 "nbformat": 4,
 "nbformat_minor": 2
}
