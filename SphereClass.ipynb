{
 "cells": [
  {
   "cell_type": "code",
   "execution_count": null,
   "metadata": {
    "graffitiCellId": "id_vcnynj5",
    "graffitiConfig": {
     "executeCellViaGraffiti": "bcz7nas_tbfm8y2"
    }
   },
   "outputs": [],
   "source": [
    "// Include iostream for printing\n",
    "\n",
    "// Define class Sphere\n",
    "\n",
    "    // Define public constructor\n",
    "    // Define a function to return the volume\n",
    "\n",
    "    // Define private attributes    \n",
    "    \n",
    "// Test in main()\n"
   ]
  },
  {
   "cell_type": "markdown",
   "metadata": {
    "graffitiCellId": "id_bcz7nas"
   },
   "source": [
    "<span class=\"graffiti-highlight graffiti-id_bcz7nas-id_tbfm8y2\"><i></i><button>Compile & Run</button></span>&nbsp;\n",
    "<span class=\"graffiti-highlight graffiti-id_s2w39qw-id_apzqkll\"><i></i><button>Explain</button></span>"
   ]
  },
  {
   "cell_type": "markdown",
   "metadata": {
    "graffitiCellId": "id_f00ikj9",
    "graffitiConfig": {
     "rows": 6,
     "terminalId": "id_iintr2o",
     "type": "terminal"
    }
   },
   "source": [
    "<i>Loading terminal (id_f00ikj9), please wait...</i>"
   ]
  },
  {
   "cell_type": "markdown",
   "metadata": {
    "graffitiCellId": "id_ylxlccj"
   },
   "source": [
    "<span class=\"graffiti-highlight graffiti-id_ylxlccj-id_vep9wri\"><i></i><button>Show Solution</button></span>"
   ]
  }
 ],
 "metadata": {
  "graffiti": {
   "firstAuthorId": "8978490740",
   "id": "id_itcdm0e",
   "language": "EN"
  },
  "kernelspec": {
   "display_name": "C++17",
   "language": "C++17",
   "name": "xeus-cling-cpp17"
  },
  "language_info": {
   "codemirror_mode": "text/x-c++src",
   "file_extension": ".cpp",
   "mimetype": "text/x-c++src",
   "name": "c++",
   "version": "-std=c++17"
  }
 },
 "nbformat": 4,
 "nbformat_minor": 2
}
