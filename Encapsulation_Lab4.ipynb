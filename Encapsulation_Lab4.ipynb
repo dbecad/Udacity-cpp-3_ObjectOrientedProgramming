{
 "cells": [
  {
   "cell_type": "code",
   "execution_count": null,
   "metadata": {
    "graffitiCellId": "id_2eq82yp",
    "graffitiConfig": {
     "executeCellViaGraffiti": "66rm1m6_251f3fq"
    }
   },
   "outputs": [],
   "source": [
    "#include <iostream>\n",
    "#include <cmath>\n",
    "\n",
    "// TODO: Define class Pyramid\n",
    "    \n",
    "    // Private class members\n",
    "\n",
    "    // Public class members\n",
    "\n",
    "        // constructor for \"Pyramid\"\n",
    "        \n",
    "        // get base length\n",
    "        \n",
    "        // get base width\n",
    "        \n",
    "        // get height\n",
    "        \n",
    "        // public method that finds volume of pyramid\n",
    "\n",
    "// TODO: Test in main()\n",
    "int main()\n",
    "{\n",
    "    \n",
    "}"
   ]
  },
  {
   "cell_type": "markdown",
   "metadata": {
    "graffitiCellId": "id_66rm1m6"
   },
   "source": [
    "<span class=\"graffiti-highlight graffiti-id_66rm1m6-id_251f3fq\"><i></i><button>Compile & Run</button></span>\n",
    "<span class=\"graffiti-highlight graffiti-id_a4lp7f3-id_1t82qn0\"><i></i><button>Explain</button></span>"
   ]
  },
  {
   "cell_type": "markdown",
   "metadata": {
    "graffitiCellId": "id_6962hjh",
    "graffitiConfig": {
     "rows": 6,
     "terminalId": "id_6962hjh",
     "type": "terminal"
    }
   },
   "source": [
    "<i>Loading terminal (id_6962hjh), please wait...</i>"
   ]
  },
  {
   "cell_type": "markdown",
   "metadata": {
    "graffitiCellId": "id_gj6em8t"
   },
   "source": [
    "<span class=\"graffiti-highlight graffiti-id_gj6em8t-id_2n9yf0x\"><i></i><button>Show Solution</button></span>"
   ]
  }
 ],
 "metadata": {
  "graffiti": {
   "firstAuthorId": "8978490740",
   "id": "id_g4m4i1f",
   "language": "EN"
  },
  "kernelspec": {
   "display_name": "C++17",
   "language": "C++17",
   "name": "xeus-cling-cpp17"
  },
  "language_info": {
   "codemirror_mode": "text/x-c++src",
   "file_extension": ".cpp",
   "mimetype": "text/x-c++src",
   "name": "c++",
   "version": "-std=c++17"
  }
 },
 "nbformat": 4,
 "nbformat_minor": 2
}
