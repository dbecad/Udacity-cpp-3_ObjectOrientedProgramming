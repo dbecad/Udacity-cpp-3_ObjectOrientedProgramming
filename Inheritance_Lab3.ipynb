{
 "cells": [
  {
   "cell_type": "markdown",
   "metadata": {
    "graffitiCellId": "id_82uobi0"
   },
   "source": [
    "## Exercise\n",
    "\n",
    "In the code below, the `Dog` class inherits from both `Animal` and `Pet`. Once you have examined the code below, add a `Cat` class that also inherits from `Animal` and `Pet`. \n",
    "\n",
    "The `Cat` class should have the attributes `string eye_color` and `int age`. When you are finished implementing the `Cat` class, create a cat instance in `main` and set and print those attributes."
   ]
  },
  {
   "cell_type": "code",
   "execution_count": null,
   "metadata": {
    "graffitiCellId": "id_3sqaygk",
    "graffitiConfig": {
     "executeCellViaGraffiti": "iqldn01_qu4lbvd"
    }
   },
   "outputs": [],
   "source": [
    "#include <iostream>\n",
    "#include <string>\n",
    "\n",
    "\n",
    "class Animal {\n",
    "  public:\n",
    "      double weight;\n",
    "      double size;\n",
    "      // rest of class interface\n",
    "};\n",
    "\n",
    "class Pet {\n",
    "  public:\n",
    "      std::string name;\n",
    "      std::string owner_name;\n",
    "      // rest of class interface\n",
    "};\n",
    "\n",
    "// Dog is derived class with inherited properties\n",
    "class Dog : public Animal, public Pet {\n",
    "  public:\n",
    "      bool has_long_fur;\n",
    "      bool has_short_fur;\n",
    "  // rest of class interface\n",
    "};\n",
    "\n",
    "int main()\n",
    "{\n",
    "    Dog d;\n",
    "    d.has_long_fur = true;\n",
    "    d.weight = 10;\n",
    "    d.size = 43;\n",
    "    d.owner_name = \"Ryan\";\n",
    "    std::cout << d.has_long_fur << \"\\n\";\n",
    "    std::cout << d.owner_name << \"\\n\";\n",
    "    \n",
    "};"
   ]
  },
  {
   "cell_type": "markdown",
   "metadata": {
    "graffitiCellId": "id_iqldn01"
   },
   "source": [
    "<span class=\"graffiti-highlight graffiti-id_iqldn01-id_qu4lbvd\"><i></i><button>Compile & Execute</button></span>"
   ]
  },
  {
   "cell_type": "markdown",
   "metadata": {
    "graffitiCellId": "id_ay2gcn0",
    "graffitiConfig": {
     "rows": 6,
     "terminalId": "id_s8973bz",
     "type": "terminal"
    }
   },
   "source": [
    "<i>Loading terminal (id_ay2gcn0), please wait...</i>"
   ]
  }
 ],
 "metadata": {
  "graffiti": {
   "firstAuthorId": "8978490740",
   "id": "id_xnc2lo4",
   "language": "EN"
  },
  "kernelspec": {
   "display_name": "C++17",
   "language": "C++17",
   "name": "xeus-cling-cpp17"
  },
  "language_info": {
   "codemirror_mode": "text/x-c++src",
   "file_extension": ".cpp",
   "mimetype": "text/x-c++src",
   "name": "c++",
   "version": "-std=c++17"
  }
 },
 "nbformat": 4,
 "nbformat_minor": 2
}
